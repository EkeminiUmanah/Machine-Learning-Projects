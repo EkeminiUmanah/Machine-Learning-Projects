{
 "cells": [
  {
   "cell_type": "markdown",
   "metadata": {},
   "source": [
    "### Prerequisites\n",
    "check to see if kfp is installed:"
   ]
  },
  {
   "cell_type": "code",
   "execution_count": 91,
   "metadata": {},
   "outputs": [
    {
     "name": "stdout",
     "output_type": "stream",
     "text": [
      "Name: kfp\n",
      "Version: 1.6.6\n",
      "Summary: KubeFlow Pipelines SDK\n",
      "Home-page: https://github.com/kubeflow/pipelines\n",
      "Author: The Kubeflow Authors\n",
      "Author-email: \n",
      "License: UNKNOWN\n",
      "Location: /home/jovyan/.local/lib/python3.8/site-packages\n",
      "Requires: click, kubernetes, absl-py, PyYAML, tabulate, fire, google-cloud-storage, protobuf, cloudpickle, docstring-parser, jsonschema, Deprecated, google-auth, strip-hints, kfp-server-api, google-api-python-client, kfp-pipeline-spec, requests-toolbelt\n",
      "Required-by: \n"
     ]
    }
   ],
   "source": [
    "! pip3 show kfp"
   ]
  },
  {
   "cell_type": "markdown",
   "metadata": {},
   "source": [
    "### 1. Configure Credentials\n",
    "In order for KFServing to access MinIO, the credentials must be added to the default service account.\n",
    "\n",
    "KFServing is imported as a pipeline component (ContainerOp) in this notebook. Consequently, it does not allow configuration of custom service accounts."
   ]
  },
  {
   "cell_type": "code",
   "execution_count": 92,
   "metadata": {},
   "outputs": [
    {
     "name": "stdout",
     "output_type": "stream",
     "text": [
      "Overwriting minio_secret.yaml\n"
     ]
    }
   ],
   "source": [
    "%%writefile minio_secret.yaml\n",
    "apiVersion: v1\n",
    "kind: Secret\n",
    "metadata:\n",
    "  name: minio-s3-secret\n",
    "  annotations:\n",
    "     serving.kubeflow.org/s3-endpoint: minio-service.kubeflow:9000\n",
    "     serving.kubeflow.org/s3-usehttps: \"0\" # Default: 1. Must be 0 when testing with MinIO!\n",
    "type: Opaque\n",
    "data:\n",
    "  AWS_ACCESS_KEY_ID: bWluaW8=\n",
    "  AWS_SECRET_ACCESS_KEY: bWluaW8xMjM=\n",
    "---\n",
    "apiVersion: v1\n",
    "kind: ServiceAccount\n",
    "metadata:\n",
    "  name: default\n",
    "secrets:\n",
    "  - name: minio-s3-secret"
   ]
  },
  {
   "cell_type": "code",
   "execution_count": 93,
   "metadata": {},
   "outputs": [
    {
     "name": "stdout",
     "output_type": "stream",
     "text": [
      "secret/minio-s3-secret unchanged\n",
      "serviceaccount/default configured\n"
     ]
    }
   ],
   "source": [
    "! kubectl apply -f minio_secret.yaml"
   ]
  },
  {
   "cell_type": "markdown",
   "metadata": {},
   "source": [
    "### 2. Configure access Minio\n",
    "Upload your Dataset to Minio\n",
    "First, we configure credentials for mc, the MinIO command line client. We then use it to create a bucket, upload the dataset to it, and set access policy so that the pipeline can download it from MinIO.\n",
    "\n",
    "Follow the steps below to download minio client\n",
    "\n",
    "\n",
    "    wget https://dl.min.io/client/mc/release/linux-amd64/mc\n",
    "    chmod +x mc\n",
    "    ./mc --help\n",
    "    "
   ]
  },
  {
   "cell_type": "code",
   "execution_count": 94,
   "metadata": {},
   "outputs": [
    {
     "name": "stdout",
     "output_type": "stream",
     "text": [
      "--2021-07-27 09:34:55--  https://dl.min.io/client/mc/release/linux-amd64/mc\n",
      "Resolving dl.min.io (dl.min.io)... 178.128.69.202\n",
      "Connecting to dl.min.io (dl.min.io)|178.128.69.202|:443... connected.\n",
      "HTTP request sent, awaiting response... 200 OK\n",
      "Length: 21876736 (21M) [application/octet-stream]\n",
      "Saving to: ‘mc.2’\n",
      "\n",
      "mc.2                100%[===================>]  20.86M  33.9MB/s    in 0.6s    \n",
      "\n",
      "2021-07-27 09:34:56 (33.9 MB/s) - ‘mc.2’ saved [21876736/21876736]\n",
      "\n",
      "NAME:\n",
      "  mc - MinIO Client for cloud storage and filesystems.\n",
      "\n",
      "USAGE:\n",
      "  mc [FLAGS] COMMAND [COMMAND FLAGS | -h] [ARGUMENTS...]\n",
      "\n",
      "COMMANDS:\n",
      "  alias      set, remove and list aliases in configuration file\n",
      "  ls         list buckets and objects\n",
      "  mb         make a bucket\n",
      "  rb         remove a bucket\n",
      "  cp         copy objects\n",
      "  mirror     synchronize object(s) to a remote site\n",
      "  cat        display object contents\n",
      "  head       display first 'n' lines of an object\n",
      "  pipe       stream STDIN to an object\n",
      "  share      generate URL for temporary access to an object\n",
      "  find       search for objects\n",
      "  sql        run sql queries on objects\n",
      "  stat       show object metadata\n",
      "  mv         move objects\n",
      "  tree       list buckets and objects in a tree format\n",
      "  du         summarize disk usage recursively\n",
      "  retention  set retention for object(s)\n",
      "  legalhold  manage legal hold for object(s)\n",
      "  diff       list differences in object name, size, and date between two buckets\n",
      "  rm         remove objects\n",
      "  version    manage bucket versioning\n",
      "  ilm        manage bucket lifecycle\n",
      "  encrypt    manage bucket encryption config\n",
      "  event      manage object notifications\n",
      "  watch      listen for object notification events\n",
      "  undo       undo PUT/DELETE operations\n",
      "  anonymous  manage anonymous access to buckets and objects\n",
      "  tag        manage tags for bucket and object(s)\n",
      "  replicate  configure server side bucket replication\n",
      "  admin      manage MinIO servers\n",
      "  update     update mc to latest release\n",
      "  \n",
      "GLOBAL FLAGS:\n",
      "  --autocompletion              install auto-completion for your shell\n",
      "  --config-dir value, -C value  path to configuration folder (default: \"/home/jovyan/.mc\")\n",
      "  --quiet, -q                   disable progress bar display\n",
      "  --no-color                    disable color theme\n",
      "  --json                        enable JSON lines formatted output\n",
      "  --debug                       enable debug output\n",
      "  --insecure                    disable SSL certificate verification\n",
      "  --help, -h                    show help\n",
      "  --version, -v                 print the version\n",
      "  \n",
      "TIP:\n",
      "  Use 'mc --autocompletion' to enable shell autocompletion\n",
      "\n",
      "VERSION:\n",
      "  RELEASE.2021-07-27T06-46-19Z\n"
     ]
    }
   ],
   "source": [
    "! wget https://dl.min.io/client/mc/release/linux-amd64/mc\n",
    "! chmod +x mc\n",
    "! ./mc --help"
   ]
  },
  {
   "cell_type": "markdown",
   "metadata": {},
   "source": [
    "#### a. Connect to the Minio Server"
   ]
  },
  {
   "cell_type": "code",
   "execution_count": 95,
   "metadata": {},
   "outputs": [
    {
     "name": "stdout",
     "output_type": "stream",
     "text": [
      "\u001b[m\u001b[32mAdded `minio` successfully.\u001b[0m\n",
      "\u001b[0m"
     ]
    }
   ],
   "source": [
    "! ./mc alias set minio http://minio-service.kubeflow:9000 minio minio123"
   ]
  },
  {
   "cell_type": "markdown",
   "metadata": {},
   "source": [
    "#### b. Create a bucket to store your data and export your model to Minio\n",
    "Make sure you clear this bucket once you are cone running your pipeline"
   ]
  },
  {
   "cell_type": "code",
   "execution_count": 96,
   "metadata": {},
   "outputs": [
    {
     "name": "stdout",
     "output_type": "stream",
     "text": [
      "\u001b[m\u001b[32;1mBucket created successfully `minio/airlinecust2`.\u001b[0m\n",
      "\u001b[0m"
     ]
    }
   ],
   "source": [
    "! ./mc mb minio/airlinecust2"
   ]
  },
  {
   "cell_type": "markdown",
   "metadata": {},
   "source": [
    "#### c. Upload the dataset to your bucket in Minio.\n",
    "Note: Make sure you have your dataset in a folder like we have here as datasets."
   ]
  },
  {
   "cell_type": "code",
   "execution_count": 97,
   "metadata": {},
   "outputs": [
    {
     "name": "stdout",
     "output_type": "stream",
     "text": [
      "...ts.tar.gz:  1.55 MiB / 1.55 MiB ┃▓▓▓▓▓▓▓▓▓▓▓▓▓▓▓▓▓▓▓▓▓▓▓▓▓▓▓▓┃ 27.88 MiB/s 0s\u001b[0m\u001b[0m\u001b[m\u001b[32;1m\u001b[m\u001b[32;1mAccess permission for `minio/airlinecust2` is set to `download`\u001b[0m\n",
      "\u001b[0m"
     ]
    }
   ],
   "source": [
    "! tar --dereference -czf datasets.tar.gz ./datasets\n",
    "! ./mc cp datasets.tar.gz minio/airlinecust2/datasets.tar.gz\n",
    "! ./mc policy set download minio/airlinecust2"
   ]
  },
  {
   "cell_type": "markdown",
   "metadata": {},
   "source": [
    "#### If you have downloaded your data too many times while testing, use the following code to clear out your bucket"
   ]
  },
  {
   "cell_type": "code",
   "execution_count": 98,
   "metadata": {},
   "outputs": [],
   "source": [
    "#! ./mc rm --recursive --force minio/airlinecust2"
   ]
  },
  {
   "cell_type": "markdown",
   "metadata": {},
   "source": [
    "#### Minio Server URL and Credentials"
   ]
  },
  {
   "cell_type": "code",
   "execution_count": 99,
   "metadata": {},
   "outputs": [],
   "source": [
    "MINIO_SERVER='minio-service.kubeflow:9000'\n",
    "MINIO_ACCESS_KEY='minio'\n",
    "MINIO_SECRET_KEY='minio123'"
   ]
  },
  {
   "cell_type": "markdown",
   "metadata": {},
   "source": [
    "#### Implement Kubeflow Pipelines Components\n",
    "In this pipeline, we have the following components:\n",
    "\n",
    "Dataset download component\n",
    "Preprocess the dataset component\n",
    "Train the model component\n",
    "Make predictions component\n",
    "Export the trained model component"
   ]
  },
  {
   "cell_type": "code",
   "execution_count": 100,
   "metadata": {},
   "outputs": [],
   "source": [
    "from typing import NamedTuple\n",
    "import kfp\n",
    "import kfp.components as components\n",
    "import kfp.dsl as dsl\n",
    "from kfp.components import InputPath, OutputPath #helps define the input & output between the components\n",
    "NAMESPACE = 'sooter'"
   ]
  },
  {
   "cell_type": "markdown",
   "metadata": {},
   "source": [
    "#### Component 1: Download the Data Set"
   ]
  },
  {
   "cell_type": "code",
   "execution_count": 101,
   "metadata": {},
   "outputs": [],
   "source": [
    "def download_dataset(minio_server: str, data_dir: OutputPath(str)):\n",
    "    \"\"\"Download the data set to the KFP volume to share it among all steps\"\"\"\n",
    "    import urllib.request\n",
    "    import tarfile\n",
    "    import os\n",
    "    import subprocess\n",
    "\n",
    "    if not os.path.exists(data_dir):\n",
    "        os.makedirs(data_dir)\n",
    "\n",
    "    url = f'http://{minio_server}/airlinecust2/datasets.tar.gz'\n",
    "    print(url)\n",
    "    stream = urllib.request.urlopen(url)\n",
    "    print('done downloading')\n",
    "    tar = tarfile.open(fileobj=stream, mode=\"r|gz\")\n",
    "    tar.extractall(path=data_dir)\n",
    "    print('done extracting')\n",
    "    \n",
    "    \n",
    "    subprocess.call([\"ls\", \"-dlha\", data_dir])"
   ]
  },
  {
   "cell_type": "markdown",
   "metadata": {},
   "source": [
    "#### Component 2: Preprocess Dataset"
   ]
  },
  {
   "cell_type": "code",
   "execution_count": 102,
   "metadata": {},
   "outputs": [],
   "source": [
    "#df = pd.read_csv(\"https://raw.githubusercontent.com/charlesa101/KubeflowUseCases/draft/Airline%20Customer%20Satisfaction/data/raw/Invistico_Airline.csv?token=AOWDH2M6SCIG4L7PTKFANZDBBECXM\")"
   ]
  },
  {
   "cell_type": "code",
   "execution_count": 103,
   "metadata": {},
   "outputs": [],
   "source": [
    "def preprocess(data_dir: InputPath(str), clean_data_dir: OutputPath(str)):\n",
    "    \n",
    "    import numpy as np\n",
    "    import sys, subprocess;\n",
    "    subprocess.run([sys.executable, '-m', 'pip', 'install', 'pandas'])\n",
    "    subprocess.run([sys.executable, '-m', 'pip', 'install', 'scikit-learn'])\n",
    "    from sklearn.model_selection import KFold\n",
    "    from sklearn.model_selection import train_test_split  # splitting the data\n",
    "    import pandas as pd\n",
    "    import pickle\n",
    "    import os\n",
    "    \n",
    "    # Get data\n",
    "    \n",
    "    #df = pd.read_csv(f\"{data_dir}/datasets/Invistico_Airline.csv\")\n",
    "    #df = pd.read_csv(\"datasets/Invistico_Airline.csv\")\n",
    "    df = pd.read_csv(\"https://raw.githubusercontent.com/charlesa101/KubeflowUseCases/draft/Airline%20Customer%20Satisfaction/data/raw/Invistico_Airline.csv?token=AOWDH2M6SCIG4L7PTKFANZDBBECXM\")\n",
    "    \n",
    "    #print(data)\n",
    "    \n",
    "    #drop rows with missing values\n",
    "    df.dropna(inplace=True)\n",
    "    #new column total delay\n",
    "    df['total_delay'] = df['Departure Delay in Minutes'] + df['Arrival Delay in Minutes']\n",
    "    \n",
    "    #drop 'Departure Delay in Minutes',and 'Arrival Delay in Minutes'\n",
    "    df.drop(columns=['Departure Delay in Minutes','Arrival Delay in Minutes'], inplace=True)\n",
    "    \n",
    "        #satisfied and dissatisfied in number \n",
    "    satisfaction_map = {\"satisfied\": 1,\"dissatisfied\": 0 }\n",
    "    df['satisfaction']  = df['satisfaction'].map(satisfaction_map)\n",
    "\n",
    "    #Male and Female in number \n",
    "    Gender_map = {\"Male\": 1,\"Female\": 2 }\n",
    "    df['Gender']  = df['Gender'].map(Gender_map)\n",
    "\n",
    "    #Loyal and disloyal in number \n",
    "    Customer_Type_map = {\"Loyal Customer\": 1,\"disloyal Customer\": 0 }\n",
    "    df['Customer Type']  = df['Customer Type'].map(Customer_Type_map)\n",
    "\n",
    "    #Business travel and Business travel in number \n",
    "    Type_of_Travel_map = {\"Business travel\": 1,\"Personal Travel\": 2 }\n",
    "    df['Type of Travel']  = df['Type of Travel'].map(Type_of_Travel_map)\n",
    "\n",
    "    #Business and Eco and Eco plus in number \n",
    "    Class_map = {\"Business\": 1,\"Eco\": 3, \"Eco Plus\": 2 }\n",
    "    df['Class']  = df['Class'].map(Class_map)\n",
    "\n",
    "    cols = ['Flight Distance', 'total_delay', 'Checkin service', 'On-board service']\n",
    "\n",
    "    Q1 = df[cols].quantile(0.25)\n",
    "    Q3 = df[cols].quantile(0.75)\n",
    "    IQR = Q3 - Q1\n",
    "\n",
    "    df = df[~((df[cols] < (Q1 - 1.5 * IQR)) |(df[cols] > (Q3 + 1.5 * IQR))).any(axis=1)]   \n",
    "    \n",
    "    #Split dataset\n",
    "    \n",
    "    X = df.drop('satisfaction',axis=1)\n",
    "    y = df['satisfaction'] \n",
    "    X_train,X_test, y_train, y_test = train_test_split(X,y, test_size = 0.3, random_state = 111)\n",
    "    \n",
    "   \n",
    "    data = {\"X_train\": X_train,\"X_test\": X_test, \"y_train\": y_train,\"y_test\": y_test}\n",
    "    \n",
    "    os.makedirs(clean_data_dir, exist_ok=True)\n",
    "\n",
    "    with open(os.path.join(clean_data_dir,'clean_data.pickle'), 'wb') as f:\n",
    "        pickle.dump(data, f)\n",
    "    \n",
    "    print(f\"clean_data.pickle {clean_data_dir}\")\n",
    "    \n",
    "    print(os.listdir(clean_data_dir))\n",
    "    \n",
    "    print(\"Preprocessing Done\")"
   ]
  },
  {
   "cell_type": "markdown",
   "metadata": {},
   "source": [
    "#### Component 3: Training the data with Tensorflow Model"
   ]
  },
  {
   "cell_type": "code",
   "execution_count": 104,
   "metadata": {},
   "outputs": [],
   "source": [
    "def train_model(clean_data_dir: InputPath(str), model_dir: OutputPath(str)):\n",
    "    \n",
    "    # Install all the dependencies inside the function\n",
    "    import numpy as np\n",
    "    import pickle\n",
    "    import os\n",
    "    import sys, subprocess;\n",
    "    subprocess.run([sys.executable, '-m', 'pip', 'install', 'catboost==0.24.2'])\n",
    "    import pandas as pd\n",
    "    # import libraries for training\n",
    "\n",
    "    from numpy.random import seed\n",
    "\n",
    "    import tensorflow as tf\n",
    "    tf.random.set_seed(221)\n",
    "    from tensorflow import keras\n",
    "    from tensorflow.keras.models import Sequential\n",
    "    from tensorflow.keras.layers import Dense, Dropout, BatchNormalization\n",
    "    from tensorflow.keras.optimizers import SGD, Adam, RMSprop\n",
    "    \n",
    "    #load the preprocessed data\n",
    "    \n",
    "    print(clean_data_dir)\n",
    "    with open(os.path.join(clean_data_dir,'clean_data.pickle'), 'rb') as f:\n",
    "        data = pickle.load(f)\n",
    "        \n",
    "    print(data)\n",
    "    \n",
    "    X_train = data['X_train']\n",
    "    y_train = data['y_train']\n",
    "    \n",
    "    seed(1)\n",
    "    model = Sequential()\n",
    "    model.add(Dense(100, activation='relu', input_dim=21))\n",
    "    model.add(BatchNormalization())\n",
    "    model.add(Dense(40, activation='relu'))\n",
    "    model.add(Dropout(0.2))\n",
    "    model.add(Dense(1, activation='sigmoid'))\n",
    "    \n",
    "    model.summary()\n",
    "    #opt = args.optimizer\n",
    "    model.compile(loss='binary_crossentropy',\n",
    "                optimizer='adam',\n",
    "                metrics=['accuracy'])\n",
    "    \n",
    "    # Fit the model to the training data\n",
    "    model.fit(X_train, y_train, epochs=30)\n",
    "    \n",
    "    #Save the model to the designated \n",
    "    os.makedirs(model_dir, exist_ok=True)\n",
    "    \n",
    "    #with open(os.path.join(model_dir,'model.pickle'), 'wb') as f:\n",
    "        #pickle.dump(model, f)\n",
    "    \n",
    "    \n",
    "    model.save(model_dir)\n",
    "    \n",
    "    print(f\"Model saved {model_dir}\")\n",
    "    \n",
    "    print(os.listdir(model_dir))"
   ]
  },
  {
   "cell_type": "markdown",
   "metadata": {},
   "source": [
    "#### Component 4:Evaluate Model"
   ]
  },
  {
   "cell_type": "code",
   "execution_count": 105,
   "metadata": {},
   "outputs": [],
   "source": [
    "def prediction(clean_data_dir: InputPath(str), model_dir: InputPath(str), metrics_path: OutputPath(str)\n",
    ") -> NamedTuple(\"EvaluationOutput\", [(\"mlpipeline_metrics\", \"Metrics\")]):   \n",
    "    import pickle\n",
    "    import os\n",
    "    import sys, subprocess;\n",
    "    import numpy as np\n",
    "    \n",
    "    import json\n",
    "    import tensorflow as tf\n",
    "    import tensorflow_datasets as tfds\n",
    "    from collections import namedtuple\n",
    "\n",
    "\n",
    "    #Evaluate the model and print the results\n",
    "    print(model_dir)\n",
    "    model = tf.keras.models.load_model(model_dir)\n",
    "    \n",
    "    print(model)\n",
    "    \n",
    "    print(clean_data_dir)\n",
    "    with open(os.path.join(clean_data_dir,'clean_data.pickle'), 'rb') as f:\n",
    "        data = pickle.load(f)     \n",
    "    print(data)\n",
    " \n",
    "    X_test = data['X_test']\n",
    "    y_test = data['y_test']\n",
    "    X_train = data['X_train']\n",
    "    y_train = data['y_train']\n",
    "    \n",
    "\n",
    "    (loss, accuracy) = model.evaluate(X_test,y_test, verbose=0) \n",
    "    \n",
    "    metrics = {\n",
    "        \"metrics\": [\n",
    "            {\"name\": \"loss\", \"numberValue\": str(loss), \"format\": \"PERCENTAGE\"},\n",
    "            {\"name\": \"accuracy\", \"numberValue\": str(accuracy), \"format\": \"PERCENTAGE\"},\n",
    "        ]\n",
    "    }\n",
    "\n",
    "    with open(metrics_path, \"w\") as f:\n",
    "        json.dump(metrics, f)\n",
    "\n",
    "    out_tuple = namedtuple(\"EvaluationOutput\", [\"mlpipeline_metrics\"])\n",
    "\n",
    "    return out_tuple(json.dumps(metrics))"
   ]
  },
  {
   "cell_type": "markdown",
   "metadata": {},
   "source": [
    "#### Component 5: Export the Model"
   ]
  },
  {
   "cell_type": "code",
   "execution_count": 106,
   "metadata": {},
   "outputs": [],
   "source": [
    "def export_model(\n",
    "    model_dir: InputPath(str),\n",
    "    metrics: InputPath(str),\n",
    "    export_bucket: str,\n",
    "    model_name: str,\n",
    "    model_version: int,\n",
    "    minio_server: str,\n",
    "    minio_access_key: str,\n",
    "    minio_secret_key: str,\n",
    "):\n",
    "    import os\n",
    "    import boto3\n",
    "    from botocore.client import Config\n",
    "\n",
    "    s3 = boto3.client(\n",
    "        \"s3\",\n",
    "        endpoint_url=f'http://{minio_server}',\n",
    "        aws_access_key_id=minio_access_key,\n",
    "        aws_secret_access_key=minio_secret_key,\n",
    "        config=Config(signature_version=\"s3v4\"),\n",
    "    )\n",
    "\n",
    "    # Create export bucket if it does not yet exist\n",
    "    response = s3.list_buckets()\n",
    "    export_bucket_exists = False\n",
    "\n",
    "    for bucket in response[\"Buckets\"]:\n",
    "        if bucket[\"Name\"] == export_bucket:\n",
    "            export_bucket_exists = True\n",
    "\n",
    "    if not export_bucket_exists:\n",
    "        s3.create_bucket(ACL=\"public-read-write\", Bucket=export_bucket)\n",
    "\n",
    "    # Save model files to S3\n",
    "    for root, dirs, files in os.walk(model_dir):\n",
    "        for filename in files:\n",
    "            local_path = os.path.join(root, filename)\n",
    "            s3_path = os.path.relpath(local_path, model_dir)\n",
    "\n",
    "            s3.upload_file(\n",
    "                local_path,\n",
    "                export_bucket,\n",
    "                f\"{model_name}/{model_version}/{s3_path}\",\n",
    "                ExtraArgs={\"ACL\": \"public-read\"},\n",
    "            )\n",
    "\n",
    "    response = s3.list_objects(Bucket=export_bucket)\n",
    "    print(f\"All objects in {export_bucket}:\")\n",
    "    for file in response[\"Contents\"]:\n",
    "        print(\"{}/{}\".format(export_bucket, file[\"Key\"]))"
   ]
  },
  {
   "cell_type": "markdown",
   "metadata": {},
   "source": [
    "#### 5. Component: Serve Model\n",
    "Kubeflow Pipelines comes with [a pre-defined KFServing component](https://raw.githubusercontent.com/kubeflow/pipelines/f21e0fe726f8aec86165beca061f64fa730e0ac7/components/kubeflow/kfserving/component.yaml) which can be imported from GitHub repo and reused across the pipelines without the need to define it every time. We include a copy with the tutorial to make it work in an air-gapped environment. Here's what the import looks like:"
   ]
  },
  {
   "cell_type": "code",
   "execution_count": 107,
   "metadata": {},
   "outputs": [],
   "source": [
    "kfserving = components.load_component_from_file(\"kfserving-component.yaml\")"
   ]
  },
  {
   "cell_type": "markdown",
   "metadata": {},
   "source": [
    "#### Combine the Components into a Pipeline"
   ]
  },
  {
   "cell_type": "code",
   "execution_count": 108,
   "metadata": {},
   "outputs": [],
   "source": [
    "def train_model_pipeline(\n",
    "    data_dir: str,\n",
    "    clean_data_dir: str,\n",
    "    model_dir: str,\n",
    "    export_bucket: str,\n",
    "    model_name: str,\n",
    "    model_version: int,\n",
    "    minio_server: str,\n",
    "    minio_access_key: str,\n",
    "    minio_secret_key: str,\n",
    "):\n",
    "    # For GPU support, please add the \"-gpu\" suffix to the base image\n",
    "    BASE_IMAGE = \"mavencodev/minio:v.0.1\"\n",
    "\n",
    "    downloadOp = components.func_to_container_op(\n",
    "        download_dataset, base_image=BASE_IMAGE\n",
    "    )(minio_server)\n",
    "\n",
    "    preprocessOp = components.func_to_container_op(preprocess, base_image=BASE_IMAGE)(\n",
    "        downloadOp.output\n",
    "    )\n",
    "        \n",
    "    trainOp = components.func_to_container_op(train_model, base_image=BASE_IMAGE)(\n",
    "        preprocessOp.output\n",
    "    )\n",
    "\n",
    "    predictionOp = components.func_to_container_op(prediction, base_image=BASE_IMAGE)(\n",
    "        preprocessOp.output, trainOp.output\n",
    "    )\n",
    "\n",
    "    exportOp = components.func_to_container_op(export_model, base_image=BASE_IMAGE)(\n",
    "        trainOp.output, predictionOp.output, export_bucket, \n",
    "        model_name, model_version, minio_server, minio_access_key, minio_secret_key\n",
    "    )\n",
    "    \n",
    "    kfservingOp = kfserving(\n",
    "        action=\"apply\",\n",
    "        default_model_uri=f\"s3://{export_bucket}/{model_name}\",\n",
    "        model_name=\"airlinecust2\",\n",
    "        namespace= NAMESPACE,\n",
    "        framework=\"tensorflow\",\n",
    "    )\n",
    "    kfservingOp.after(exportOp)"
   ]
  },
  {
   "cell_type": "code",
   "execution_count": null,
   "metadata": {},
   "outputs": [],
   "source": []
  },
  {
   "cell_type": "code",
   "execution_count": 109,
   "metadata": {},
   "outputs": [],
   "source": [
    "def op_transformer(op):\n",
    "    op.add_pod_annotation(name=\"sidecar.istio.io/inject\", value=\"false\")\n",
    "    return op\n",
    "\n",
    "\n",
    "@dsl.pipeline(\n",
    "    name=\"Serving Customer Satisfaction Prediction model\",\n",
    "    description=\"A KFServing pipeline\",\n",
    ")\n",
    "def satisfaction_pipeline(\n",
    "    model_dir: str = \"/train/model\",\n",
    "    data_dir: str = \"/train/data\",\n",
    "    clean_data_dir: str= \"/train/data\",\n",
    "    export_bucket: str = \"airlinecust2\",\n",
    "    model_name: str = \"airlinecust2\",\n",
    "    model_version: int = 1,\n",
    "):\n",
    "    MINIO_SERVER='minio-service.kubeflow:9000'\n",
    "    MINIO_ACCESS_KEY='minio'\n",
    "    MINIO_SECRET_KEY='minio123'\n",
    "    \n",
    "    \n",
    "    train_model_pipeline(\n",
    "        data_dir=data_dir,\n",
    "        clean_data_dir=clean_data_dir,\n",
    "        model_dir=model_dir,\n",
    "        export_bucket=export_bucket,\n",
    "        model_name=model_name,\n",
    "        model_version=model_version,\n",
    "        minio_server=MINIO_SERVER,\n",
    "        minio_access_key=MINIO_ACCESS_KEY,\n",
    "        minio_secret_key=MINIO_SECRET_KEY,\n",
    "    )\n",
    "    \n",
    "    dsl.get_pipeline_conf().add_op_transformer(op_transformer)"
   ]
  },
  {
   "cell_type": "markdown",
   "metadata": {},
   "source": [
    "##### With that in place, let's submit the pipeline directly from our notebook:"
   ]
  },
  {
   "cell_type": "code",
   "execution_count": 110,
   "metadata": {},
   "outputs": [],
   "source": [
    "pipeline_func = satisfaction_pipeline\n",
    "run_name = pipeline_func.__name__ + \" run\"\n",
    "experiment_name = \"End-to-End-Demo\"\n",
    "\n",
    "kfp.compiler.Compiler().compile(pipeline_func,  'airline26.yaml')"
   ]
  },
  {
   "cell_type": "markdown",
   "metadata": {},
   "source": [
    "######  Upload the generated yaml file to create a pipeline in Kubeflow UI¶\n",
    "###### Now delete your bucket when you have run the pipeline successfully in the Kubeflow UI."
   ]
  },
  {
   "cell_type": "code",
   "execution_count": 111,
   "metadata": {},
   "outputs": [],
   "source": [
    "#! ./mc rb minio/airlinecust2 --force"
   ]
  },
  {
   "cell_type": "code",
   "execution_count": null,
   "metadata": {},
   "outputs": [],
   "source": []
  }
 ],
 "metadata": {
  "kernelspec": {
   "display_name": "Python 3",
   "language": "python",
   "name": "python3"
  },
  "language_info": {
   "codemirror_mode": {
    "name": "ipython",
    "version": 3
   },
   "file_extension": ".py",
   "mimetype": "text/x-python",
   "name": "python",
   "nbconvert_exporter": "python",
   "pygments_lexer": "ipython3",
   "version": "3.8.10"
  }
 },
 "nbformat": 4,
 "nbformat_minor": 4
}
