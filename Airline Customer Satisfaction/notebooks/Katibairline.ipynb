{
 "cells": [
  {
   "cell_type": "markdown",
   "metadata": {},
   "source": [
    "#### Create Experiments"
   ]
  },
  {
   "cell_type": "code",
   "execution_count": 93,
   "metadata": {},
   "outputs": [],
   "source": [
    "TF_EXPERIMENT_FILE = \"katibairline.yaml\""
   ]
  },
  {
   "cell_type": "code",
   "execution_count": 94,
   "metadata": {},
   "outputs": [],
   "source": [
    "import re\n",
    "\n",
    "from IPython.utils.capture import CapturedIO\n",
    "\n",
    "\n",
    "def get_resource(captured_io: CapturedIO) -> str:\n",
    "    \"\"\"\n",
    "    Gets a resource name from `kubectl apply -f <configuration.yaml>`.\n",
    "\n",
    "    :param str captured_io: Output captured by using `%%capture` cell magic\n",
    "    :return: Name of the Kubernetes resource\n",
    "    :rtype: str\n",
    "    :raises Exception: if the resource could not be created\n",
    "    \"\"\"\n",
    "    out = captured_io.stdout\n",
    "    matches = re.search(r\"^(.+)\\s+created\", out)\n",
    "    if matches is not None:\n",
    "        return matches.group(1)\n",
    "    else:\n",
    "        raise Exception(f\"Cannot get resource as its creation failed: {out}. It may already exist.\")"
   ]
  },
  {
   "cell_type": "markdown",
   "metadata": {},
   "source": [
    "#### For our experiment, we want to focus on the learning rate, batch-size and optimizer. The following YAML file describes an Experiment object:"
   ]
  },
  {
   "cell_type": "code",
   "execution_count": 98,
   "metadata": {},
   "outputs": [
    {
     "name": "stdout",
     "output_type": "stream",
     "text": [
      "Overwriting katibairline.yaml\n"
     ]
    }
   ],
   "source": [
    "%%writefile $TF_EXPERIMENT_FILE\n",
    "apiVersion: \"kubeflow.org/v1alpha3\"\n",
    "kind: Experiment\n",
    "metadata:\n",
    "  namespace: admin\n",
    "  name: airline2\n",
    "spec:\n",
    "  parallelTrialCount: 3\n",
    "  maxTrialCount: 12\n",
    "  maxFailedTrialCount: 3\n",
    "  objective:\n",
    "    type: maximize\n",
    "    goal: 0.99\n",
    "    objectiveMetricName: accuracy\n",
    "  algorithm:\n",
    "    algorithmName: random\n",
    "  metricsCollectorSpec:\n",
    "    kind: StdOut\n",
    "  parameters:\n",
    "    - name: learning_rate\n",
    "      parameterType: double\n",
    "      feasibleSpace:\n",
    "        min: \"0.01\"\n",
    "        max: \"0.1\"\n",
    "    - name: batch_size\n",
    "      parameterType: int\n",
    "      feasibleSpace:\n",
    "        min: \"50\"\n",
    "        max: \"100\"\n",
    "    - name: optimizer\n",
    "      parameterType: categorical\n",
    "      feasibleSpace:\n",
    "        list:\n",
    "          - rmsprop\n",
    "          - adam\n",
    "  trialTemplate:\n",
    "    primaryContainerName: tensorflow\n",
    "    trialParameters:\n",
    "      - name: learningRate\n",
    "        description: Learning rate for the training model\n",
    "        reference: learning_rate\n",
    "      - name: batchSize\n",
    "        description: Batch Size\n",
    "        reference: batch_size\n",
    "      - name: optimizer\n",
    "        description: Training model optimizer (sdg, adam)\n",
    "        reference: optimizer\n",
    "    trialSpec:\n",
    "      apiVersion: \"kubeflow.org/v1\"\n",
    "      kind: TFJob\n",
    "      spec:\n",
    "        tfReplicaSpecs:\n",
    "          Worker:\n",
    "            replicas: 1\n",
    "            restartPolicy: OnFailure\n",
    "            template:\n",
    "              metadata:\n",
    "                annotations:\n",
    "                  sidecar.istio.io/inject: \"false\"\n",
    "              spec:\n",
    "                containers:\n",
    "                  - name: tensorflow\n",
    "                    image: mavencodevv/tfjob_airline:v.0.1\n",
    "                    command:\n",
    "                      - \"python\"\n",
    "                      - \"/tfjobairline.py\"\n",
    "                      - \"--batch_size=${trialParameters.batchSize}\"\n",
    "                      - \"--learning_rate=${trialParameters.learningRate}\"\n",
    "                      - \"--optimizer=${trialParameters.optimizer}\"\n"
   ]
  },
  {
   "cell_type": "markdown",
   "metadata": {},
   "source": [
    "#### Run and Monitor Experiments\n",
    "\n",
    "To submit our experiment, we execute:"
   ]
  },
  {
   "cell_type": "code",
   "execution_count": 99,
   "metadata": {},
   "outputs": [],
   "source": [
    "%%capture kubectl_output --no-stderr\n",
    "! kubectl apply -f $TF_EXPERIMENT_FILE"
   ]
  },
  {
   "cell_type": "markdown",
   "metadata": {},
   "source": [
    "#### The cell magic grabs the output of the kubectl command and stores it in an object named kubectl_output. From there we can use the utility function we defined earlier:"
   ]
  },
  {
   "cell_type": "code",
   "execution_count": 100,
   "metadata": {},
   "outputs": [],
   "source": [
    "EXPERIMENT = get_resource(kubectl_output)"
   ]
  },
  {
   "cell_type": "markdown",
   "metadata": {},
   "source": [
    "##### To see the status, we can then run:"
   ]
  },
  {
   "cell_type": "code",
   "execution_count": 101,
   "metadata": {},
   "outputs": [
    {
     "name": "stdout",
     "output_type": "stream",
     "text": [
      "Name:         airline2\r\n",
      "Namespace:    admin\r\n",
      "Labels:       <none>\r\n",
      "Annotations:  kubectl.kubernetes.io/last-applied-configuration:\r\n",
      "                {\"apiVersion\":\"kubeflow.org/v1alpha3\",\"kind\":\"Experiment\",\"metadata\":{\"annotations\":{},\"name\":\"airline2\",\"namespace\":\"admin\"},\"spec\":{\"alg...\r\n",
      "API Version:  kubeflow.org/v1alpha3\r\n",
      "Kind:         Experiment\r\n",
      "Metadata:\r\n",
      "  Creation Timestamp:  2021-07-09T10:01:18Z\r\n",
      "  Generation:          1\r\n",
      "  Managed Fields:\r\n",
      "    API Version:  kubeflow.org/v1alpha3\r\n",
      "    Fields Type:  FieldsV1\r\n",
      "    fieldsV1:\r\n",
      "      f:metadata:\r\n",
      "        f:annotations:\r\n",
      "          .:\r\n",
      "          f:kubectl.kubernetes.io/last-applied-configuration:\r\n",
      "      f:spec:\r\n",
      "        .:\r\n",
      "        f:algorithm:\r\n",
      "          .:\r\n",
      "          f:algorithmName:\r\n",
      "        f:maxFailedTrialCount:\r\n",
      "        f:maxTrialCount:\r\n",
      "        f:metricsCollectorSpec:\r\n",
      "          .:\r\n",
      "          f:kind:\r\n",
      "        f:objective:\r\n",
      "          .:\r\n",
      "          f:goal:\r\n",
      "          f:objectiveMetricName:\r\n",
      "          f:type:\r\n",
      "        f:parallelTrialCount:\r\n",
      "        f:parameters:\r\n",
      "        f:trialTemplate:\r\n",
      "          .:\r\n",
      "          f:primaryContainerName:\r\n",
      "          f:trialParameters:\r\n",
      "          f:trialSpec:\r\n",
      "            .:\r\n",
      "            f:apiVersion:\r\n",
      "            f:kind:\r\n",
      "            f:spec:\r\n",
      "              .:\r\n",
      "              f:tfReplicaSpecs:\r\n",
      "                .:\r\n",
      "                f:Worker:\r\n",
      "                  .:\r\n",
      "                  f:replicas:\r\n",
      "                  f:restartPolicy:\r\n",
      "                  f:template:\r\n",
      "                    .:\r\n",
      "                    f:metadata:\r\n",
      "                      .:\r\n",
      "                      f:annotations:\r\n",
      "                        .:\r\n",
      "                        f:sidecar.istio.io/inject:\r\n",
      "                    f:spec:\r\n",
      "                      .:\r\n",
      "                      f:containers:\r\n",
      "    Manager:         kubectl\r\n",
      "    Operation:       Update\r\n",
      "    Time:            2021-07-09T10:01:18Z\r\n",
      "  Resource Version:  323986\r\n",
      "  Self Link:         /apis/kubeflow.org/v1alpha3/namespaces/admin/experiments/airline2\r\n",
      "  UID:               fce67eff-ad08-46e7-aa0b-5dabcb5c33de\r\n",
      "Spec:\r\n",
      "  Algorithm:\r\n",
      "    Algorithm Name:        random\r\n",
      "  Max Failed Trial Count:  3\r\n",
      "  Max Trial Count:         12\r\n",
      "  Metrics Collector Spec:\r\n",
      "    Kind:  StdOut\r\n",
      "  Objective:\r\n",
      "    Goal:                   0.99\r\n",
      "    Objective Metric Name:  accuracy\r\n",
      "    Type:                   maximize\r\n",
      "  Parallel Trial Count:     3\r\n",
      "  Parameters:\r\n",
      "    Feasible Space:\r\n",
      "      Max:           0.1\r\n",
      "      Min:           0.01\r\n",
      "    Name:            learning_rate\r\n",
      "    Parameter Type:  double\r\n",
      "    Feasible Space:\r\n",
      "      Max:           100\r\n",
      "      Min:           50\r\n",
      "    Name:            batch_size\r\n",
      "    Parameter Type:  int\r\n",
      "    Feasible Space:\r\n",
      "      List:\r\n",
      "        rmsprop\r\n",
      "        adam\r\n",
      "    Name:            optimizer\r\n",
      "    Parameter Type:  categorical\r\n",
      "  Trial Template:\r\n",
      "    Primary Container Name:  tensorflow\r\n",
      "    Trial Parameters:\r\n",
      "      Description:  Learning rate for the training model\r\n",
      "      Name:         learningRate\r\n",
      "      Reference:    learning_rate\r\n",
      "      Description:  Batch Size\r\n",
      "      Name:         batchSize\r\n",
      "      Reference:    batch_size\r\n",
      "      Description:  Training model optimizer (sdg, adam)\r\n",
      "      Name:         optimizer\r\n",
      "      Reference:    optimizer\r\n",
      "    Trial Spec:\r\n",
      "      API Version:  kubeflow.org/v1\r\n",
      "      Kind:         TFJob\r\n",
      "      Spec:\r\n",
      "        Tf Replica Specs:\r\n",
      "          Worker:\r\n",
      "            Replicas:        1\r\n",
      "            Restart Policy:  OnFailure\r\n",
      "            Template:\r\n",
      "              Metadata:\r\n",
      "                Annotations:\r\n",
      "                  sidecar.istio.io/inject:  false\r\n",
      "              Spec:\r\n",
      "                Containers:\r\n",
      "                  Command:\r\n",
      "                    python\r\n",
      "                    /tfjobairline.py\r\n",
      "                    --batch_size=${trialParameters.batchSize}\r\n",
      "                    --learning_rate=${trialParameters.learningRate}\r\n",
      "                    --optimizer=${trialParameters.optimizer}\r\n",
      "                  Image:  mavencodevv/tfjob_airline:v.0.1\r\n",
      "                  Name:   tensorflow\r\n",
      "Events:                   <none>\r\n"
     ]
    }
   ],
   "source": [
    "! kubectl describe $EXPERIMENT"
   ]
  },
  {
   "cell_type": "markdown",
   "metadata": {},
   "source": [
    "##### To get the list of created experiments, use the following command:"
   ]
  },
  {
   "cell_type": "code",
   "execution_count": 91,
   "metadata": {},
   "outputs": [
    {
     "name": "stdout",
     "output_type": "stream",
     "text": [
      "NAME       STATUS   AGE\r\n",
      "airline             41m\r\n",
      "airline1            15h\r\n"
     ]
    }
   ],
   "source": [
    "! kubectl get experiments"
   ]
  },
  {
   "cell_type": "markdown",
   "metadata": {},
   "source": [
    "##### To get the list of created trials, use the following command:"
   ]
  },
  {
   "cell_type": "code",
   "execution_count": 84,
   "metadata": {},
   "outputs": [
    {
     "name": "stdout",
     "output_type": "stream",
     "text": [
      "No resources found in admin namespace.\r\n"
     ]
    }
   ],
   "source": [
    "! kubectl get trials"
   ]
  },
  {
   "cell_type": "markdown",
   "metadata": {},
   "source": [
    "##### After the experiment is completed, use describe to get the best trial results:"
   ]
  },
  {
   "cell_type": "code",
   "execution_count": 102,
   "metadata": {},
   "outputs": [
    {
     "name": "stdout",
     "output_type": "stream",
     "text": [
      "error: no kind \"Experiment\" is registered for version \"kubeflow.org/v1alpha3\" in scheme \"k8s.io/kubectl/pkg/scheme/scheme.go:28\"\r\n"
     ]
    }
   ],
   "source": [
    "! kubectl logs $EXPERIMENT"
   ]
  },
  {
   "cell_type": "markdown",
   "metadata": {},
   "source": [
    "##### Delete Katib Job Runs to Free up resources"
   ]
  },
  {
   "cell_type": "code",
   "execution_count": 63,
   "metadata": {},
   "outputs": [
    {
     "name": "stdout",
     "output_type": "stream",
     "text": [
      "experiment.kubeflow.org \"airline\" deleted\r\n"
     ]
    }
   ],
   "source": [
    "! kubectl delete -f $TF_EXPERIMENT_FILE"
   ]
  },
  {
   "cell_type": "markdown",
   "metadata": {},
   "source": [
    "Check to see if the check to see if the pod is still up and running"
   ]
  },
  {
   "cell_type": "code",
   "execution_count": 88,
   "metadata": {},
   "outputs": [
    {
     "name": "stdout",
     "output_type": "stream",
     "text": [
      "Error from server (NotFound): pods \"airline\" not found\r\n"
     ]
    }
   ],
   "source": [
    "! kubectl -n admin logs -f airline"
   ]
  },
  {
   "cell_type": "code",
   "execution_count": null,
   "metadata": {},
   "outputs": [],
   "source": []
  }
 ],
 "metadata": {
  "kernelspec": {
   "display_name": "Python 3 (ipykernel)",
   "language": "python",
   "name": "python3"
  },
  "language_info": {
   "codemirror_mode": {
    "name": "ipython",
    "version": 3
   },
   "file_extension": ".py",
   "mimetype": "text/x-python",
   "name": "python",
   "nbconvert_exporter": "python",
   "pygments_lexer": "ipython3",
   "version": "3.9.1"
  }
 },
 "nbformat": 4,
 "nbformat_minor": 4
}
